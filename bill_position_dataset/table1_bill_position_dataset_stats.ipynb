{
 "cells": [
  {
   "cell_type": "markdown",
   "id": "9a3ce612-087a-4f3b-abdd-673b9efbbdbc",
   "metadata": {},
   "source": [
    "# Bill Position Datset Stats"
   ]
  },
  {
   "cell_type": "code",
   "execution_count": 1,
   "id": "1dd08c19-16fe-4a50-b052-818257b22baf",
   "metadata": {},
   "outputs": [],
   "source": [
    "import pandas as pd"
   ]
  },
  {
   "cell_type": "code",
   "execution_count": 2,
   "id": "b2b359af-3a70-4676-9b55-bb019513604b",
   "metadata": {},
   "outputs": [],
   "source": [
    "bill_position_dataset = pd.read_csv('bill_position_dataset_input/bill_position_dataset.csv')"
   ]
  },
  {
   "cell_type": "code",
   "execution_count": 3,
   "id": "54527c16-ad0a-4067-9718-b55637c65485",
   "metadata": {},
   "outputs": [],
   "source": [
    "def print_annotation_summary(df):\n",
    "    # Define sources and label orderings\n",
    "    sources = ['llm', 'gnn']\n",
    "    label_5_order = ['Support', 'Oppose', 'Amend', 'Monitor']\n",
    "    label_3_order = ['Support', 'Oppose', 'Engage']\n",
    "    \n",
    "    for source in sources:\n",
    "        # Filter data by annotation source (llm or gnn)\n",
    "        df_source = df[df['annotation_source'] == source]\n",
    "        num_lob = df_source['lob_id'].nunique()\n",
    "        num_bill = df_source['bill_id'].nunique()\n",
    "\n",
    "        print(f\"\\n=== Annotation Source: {source.upper()} ===\")\n",
    "        print(f\"Unique Interest Groups: {num_lob}\")\n",
    "        print(f\"Unique Bills:           {num_bill}\")\n",
    "\n",
    "        # Count label occurrences by class type\n",
    "        if source == 'llm':\n",
    "            label_counts = df_source['label_5_class'].value_counts()\n",
    "            label_counts = label_counts.reindex(label_5_order, fill_value=0)\n",
    "            print(\"\\nLabel Counts (5-class):\")\n",
    "        elif source == 'gnn':\n",
    "            label_counts = df_source['label_3_class'].value_counts()\n",
    "            label_counts = label_counts.reindex(label_3_order, fill_value=0)\n",
    "            print(\"\\nLabel Counts (3-class):\")\n",
    "        \n",
    "        print(label_counts.to_string())\n",
    "\n",
    "    # Combined summary across both LLM and GNN annotations\n",
    "    print(\"\\n=== Annotation Source: OVERALL (Combined) ===\")\n",
    "    num_lob = df['lob_id'].nunique()\n",
    "    num_bill = df['bill_id'].nunique()\n",
    "    print(f\"Unique Interest Groups: {num_lob}\")\n",
    "    print(f\"Unique Bills:           {num_bill}\")\n",
    "\n",
    "    # Use 3-class labels for overall summary\n",
    "    overall_counts = df['label_3_class'].value_counts()\n",
    "    overall_counts = overall_counts.reindex(label_3_order, fill_value=0)\n",
    "    print(\"\\nLabel Counts (3-class overall):\")\n",
    "    print(overall_counts.to_string())\n"
   ]
  },
  {
   "cell_type": "markdown",
   "id": "ac55b787-47cf-4620-853e-c0485b513e33",
   "metadata": {},
   "source": [
    "## Table 1. Size of bill position dataset"
   ]
  },
  {
   "cell_type": "code",
   "execution_count": 4,
   "id": "58a3d7e2-f63f-43a4-ab11-5f04934d04ff",
   "metadata": {},
   "outputs": [
    {
     "name": "stdout",
     "output_type": "stream",
     "text": [
      "\n",
      "=== Annotation Source: LLM ===\n",
      "Unique Interest Groups: 6495\n",
      "Unique Bills:           22820\n",
      "\n",
      "Label Counts (5-class):\n",
      "label_5_class\n",
      "Support    25099\n",
      "Oppose      5706\n",
      "Amend       9317\n",
      "Monitor    42299\n",
      "\n",
      "=== Annotation Source: GNN ===\n",
      "Unique Interest Groups: 11185\n",
      "Unique Bills:           36824\n",
      "\n",
      "Label Counts (3-class):\n",
      "label_3_class\n",
      "Support     54204\n",
      "Oppose       5456\n",
      "Engage     137023\n",
      "\n",
      "=== Annotation Source: OVERALL (Combined) ===\n",
      "Unique Interest Groups: 12032\n",
      "Unique Bills:           42475\n",
      "\n",
      "Label Counts (3-class overall):\n",
      "label_3_class\n",
      "Support     79303\n",
      "Oppose      11162\n",
      "Engage     188639\n"
     ]
    }
   ],
   "source": [
    "print_annotation_summary(bill_position_dataset)"
   ]
  }
 ],
 "metadata": {
  "kernelspec": {
   "display_name": "Python 3 (ipykernel)",
   "language": "python",
   "name": "python3"
  },
  "language_info": {
   "codemirror_mode": {
    "name": "ipython",
    "version": 3
   },
   "file_extension": ".py",
   "mimetype": "text/x-python",
   "name": "python",
   "nbconvert_exporter": "python",
   "pygments_lexer": "ipython3",
   "version": "3.10.12"
  }
 },
 "nbformat": 4,
 "nbformat_minor": 5
}
